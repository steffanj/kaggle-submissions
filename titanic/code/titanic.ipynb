{
  "metadata": {
    "kernelspec": {
      "display_name": "Python 3",
      "language": "python",
      "name": "python3"
    },
    "language_info": {
      "codemirror_mode": {
        "name": "ipython",
        "version": 3
      },
      "file_extension": ".py",
      "mimetype": "text/x-python",
      "name": "python",
      "nbconvert_exporter": "python",
      "pygments_lexer": "ipython3",
      "version": "3.6.0"
    }
  },
  "nbformat": 4,
  "nbformat_minor": 0,
  "cells": [
    {
      "cell_type": "markdown",
      "source": "# Introduction \nThis is my first Kaggle experience, and one of the first machine learning projects that I wrote in Python. \n\nWhen the RMS Titanic sank in 1912, 1502 out of 2224 passengers and crew members died. There were not enough lifeboats for everyone. In the Hollywood blockbuster that was modelled on this tragedy, it seemed to be the case that upper-class people, women and children were more likely to survive than others. But did these properties (socio-economic status, sex and age) really influence one's survival chances? \n\nBased on data of a subset of 891 passengers on the Titanic, I will make a model that can be used to predict survival of other Titanic passengers. \n\n### Outline\nIn the course of this project I will take the following steps:\n\n- Preprocessing/cleaning of the provided data\n- Exploratory analysis of the data\n- Preprocessing for machine learning\n- Fitting machine learning models\n- Predicting test samples",
      "metadata": {}
    },
    {
      "cell_type": "markdown",
      "source": "### Preprocessing\nFirst, let's load the training data to see what we're dealing with. We will import the file to a pandas DataFrame:",
      "metadata": {}
    },
    {
      "cell_type": "code",
      "source": "import pandas as pd\ntrain_data = pd.read_csv('../input/train.csv')",
      "execution_count": null,
      "outputs": [],
      "metadata": {}
    },
    {
      "cell_type": "markdown",
      "source": "Now, let's take a look at the first few rows of the DataFrame:",
      "metadata": {}
    },
    {
      "cell_type": "code",
      "source": "train_data.head(3)",
      "execution_count": null,
      "outputs": [],
      "metadata": {}
    },
    {
      "cell_type": "markdown",
      "source": "The documentation on Kaggle tells me that the 'Pclass' column contains a number which indicates class of the passenger's ticket:  1 for first class, 2 for second class and 3 for third class. This could function as a proxy for the socio-economic status of the passenger ('upper', 'middle', 'low'). The 'SibSp' column contains the number of siblings + spouses of the passenger also aboard the Titanic; the 'ParCh' column indicates the number of parents + children of the passenger also aboard the Titanic. The 'Ticket' column contains the ticket numbers of passengers (which are not likely to have any predictive power regarding survival); 'Cabin' contains the cabin number of the passenger, if he/she had a cabin, and lastly, 'Embarked' indicates the port of embarkation of the passenger: **C**herbourg, **Q**ueenstown or **S**outhampton. The meaning of the other columns is clear, I think.\n\nLet's check some more info on the DataFrame: ",
      "metadata": {}
    },
    {
      "cell_type": "code",
      "source": "train_data.info()",
      "execution_count": null,
      "outputs": [],
      "metadata": {}
    },
    {
      "cell_type": "markdown",
      "source": "The DataFrame contains 891 entries in total, with 12 features. Of those 12 features, 10 have non-null values for every entry, and 2 do not: 'Age', which has 714 non-null entries, and 'Cabin', which has only 204 non-null entries (of course, not everyone had a cabin).\n\nFirst of all, the DataFrame index does not correspond to the PassengerId column. Let's check if the values in PassengerId are unique using numpy.unique():",
      "metadata": {}
    },
    {
      "cell_type": "code",
      "source": "import numpy as np\n(np.unique(train_data['PassengerId'].values).size, \nnp.unique(train_data['PassengerId'].values).size == train_data.shape[0])",
      "execution_count": null,
      "outputs": [],
      "metadata": {}
    },
    {
      "cell_type": "markdown",
      "source": "There are 891 unique values in the PassengerId column, which equals to the total 891 id values, so every entry has an unique value in that column. Let's set the index of our DataFrame to that column, since the PassengerId is assigned arbitrarily and thus should not be regarded a real 'feature' of the data:",
      "metadata": {}
    },
    {
      "cell_type": "code",
      "source": "train_data.set_index(['PassengerId'], inplace=True)\ntrain_data.head(0)",
      "execution_count": null,
      "outputs": [],
      "metadata": {}
    },
    {
      "cell_type": "markdown",
      "source": "PassengerId has now been set as the DataFrame index. \n\nI don't expect the 'Name' feature to be of any value to our classification problem in its raw form, since all or at least most people will have a unique name. We could, however, extract the titles (Mr., Miss. etc.) of the passengers and use the title as a categorical/nominal feature. In the 'Name' column of our DataFrame, the titles are followed by a '.', which will help us extracting them. We'll make use of regex:",
      "metadata": {}
    },
    {
      "cell_type": "code",
      "source": "import re\npatt = re.compile('\\s(\\S+\\.)') # 1 whitespace character followed by several \n# non-whitespace characters followed by a dot\n\ntitles = np.array([re.search(patt, i)[1] for i in train_data['Name'].values])\n\nprint('Unique titles ({}): \\n{}'.format(np.unique(titles).shape[0], np.unique(titles)))\nprint('')\nprint('Number of titles that are NaN/Null: {}'.format(pd.isnull(titles).sum()))",
      "execution_count": null,
      "outputs": [],
      "metadata": {}
    },
    {
      "cell_type": "markdown",
      "source": "We'll include the titles as a new feature 'Title' in the DataFrame, and drop the 'Name' feature:",
      "metadata": {}
    },
    {
      "cell_type": "code",
      "source": "train_data = train_data.assign(Title=titles)\ntrain_data = train_data.drop('Name', axis=1)",
      "execution_count": null,
      "outputs": [],
      "metadata": {}
    },
    {
      "cell_type": "markdown",
      "source": "We can count the number of occurrences for each title:",
      "metadata": {}
    },
    {
      "cell_type": "code",
      "source": "train_data['Title'].groupby(train_data['Title']).size()",
      "execution_count": null,
      "outputs": [],
      "metadata": {}
    },
    {
      "cell_type": "markdown",
      "source": "We observe that most of the titles occur very infrequently. Fitting our models to these titles might mean we would be overfitting. Let's group 'Mlle' and 'Mme' with their English counterparts 'Miss' and 'Mrs'. 'Ms' will be grouped with 'Miss'; 'Capt', 'Col' and 'Major' will be put in an 'Army' category, and 'Countess', 'Don', 'Jonkheer', 'Lady' and 'Sir' will be put in a 'Noble' category. 'Dr' will be kept as a category:",
      "metadata": {}
    },
    {
      "cell_type": "code",
      "source": "train_data['Title'] = train_data['Title'].replace('Mlle.','Miss.')\ntrain_data['Title'] = train_data['Title'].replace('Ms.','Miss.')  \ntrain_data['Title'] = train_data['Title'].replace('Mme.','Mrs.')\ntrain_data['Title'] = train_data['Title'].replace(['Capt.','Col.','Major.'],'Army.')\ntrain_data['Title'] = train_data['Title'].replace(['Countess.','Don.','Jonkheer.','Lady.','Sir.'],'Noble.')\n\nprint('Number of passengers:\\n{}'.format(train_data['Title'].\\\n                                         groupby(train_data['Title']).size()))\nprint('')\nprint('Average survival:\\n{}'.format(train_data[['Title','Survived']].\\\n                                     groupby(train_data['Title']).mean()))",
      "execution_count": null,
      "outputs": [],
      "metadata": {}
    },
    {
      "cell_type": "markdown",
      "source": "Even though a few of the remaining groups are small (<1% of the dataset), I think it is worthwile to keep them as separate groups. Even though the groups are small, differences in average survival rate can still be meaningful. The groups do describe some characteristics of their members, after all: based on their professions/status, it could be explained that no reverends in our training data survived, and that army men were less likely to survive than noble people.",
      "metadata": {}
    },
    {
      "cell_type": "markdown",
      "source": "We will also drop the 'Ticket' column, since I do not see how this feature could explain a person's survival odds. If the ticket numbers encode anything at all, it would be likely that they encode things like cabin number, ticket class, embarkation port, and these features are allready present in the dataset. So unless there is some 'hidden' encoding taking place in the ticket numbers (an example: [Donald Trump's employees had secretly marked the housing applications of minorities with codes, such as “No. 9” and “C”](https://www.washingtonpost.com/politics/inside-the-governments-racial-bias-case-against-donald-trumps-company-and-how-he-fought-it/2016/01/23/fb90163e-bfbe-11e5-bcda-62a36b394160_story.html?utm_term=.dd272e7475a2)), this feature is not likely to add anything to our analysis. ",
      "metadata": {}
    },
    {
      "cell_type": "code",
      "source": "train_data = train_data.drop('Ticket', axis=1)\ntrain_data.head(0)",
      "execution_count": null,
      "outputs": [],
      "metadata": {}
    },
    {
      "cell_type": "markdown",
      "source": "Individual cabin codes are not likely to have much predictive power in our problem. However, the cabin codes can be split in categories based on the letter in the code, e.g. 'C' or 'D'. These letters might encode cabin class and thus social status, which might have predictive power on the survival odds. Since we don't know the ordering of the cabin categories, if there is any at all, this feature will be a nominal feature. Passengers without a class will have entries of 'None'.",
      "metadata": {}
    },
    {
      "cell_type": "code",
      "source": "def getCabinCat(cabin_code):\n    if pd.isnull(cabin_code):\n        cat = 'None' # Use a string so that it is clear that this is \n                     # a category on its own\n    else:\n        cat = cabin_code[0]\n    return cat",
      "execution_count": null,
      "outputs": [],
      "metadata": {}
    },
    {
      "cell_type": "code",
      "source": "cabin_cats = np.array([getCabinCat(cc) for cc in train_data['Cabin'].values])",
      "execution_count": null,
      "outputs": [],
      "metadata": {}
    },
    {
      "cell_type": "markdown",
      "source": "Let's add this as a new 'Cabin_cat' feature to the DataFrame, and remove the 'Cabin' feature:",
      "metadata": {}
    },
    {
      "cell_type": "code",
      "source": "train_data = train_data.assign(Cabin_cat=cabin_cats)\ntrain_data = train_data.drop('Cabin', axis=1)\ntrain_data.head(0)",
      "execution_count": null,
      "outputs": [],
      "metadata": {}
    },
    {
      "cell_type": "markdown",
      "source": "To get an idea about the distribution of passengers amongst the cabin categories:",
      "metadata": {}
    },
    {
      "cell_type": "code",
      "source": "print('Number of passengers:\\n{}'.format(train_data['Cabin_cat'].\\\n                                groupby(train_data['Cabin_cat']).size()))",
      "execution_count": null,
      "outputs": [],
      "metadata": {}
    },
    {
      "cell_type": "markdown",
      "source": "This concludes the data preprocessing that we will be doing. If needed, we can always edit a feature later (e.g. if we need to impute some missing values for a feature). ",
      "metadata": {}
    },
    {
      "cell_type": "markdown",
      "source": "### Exploratory Data Analysis\nLet's create some plots of various features vs. survival, to see the kind of distributions that are present in the data, and to check if there is any obvious correlation. First, let's split the data between passengers who survived and passengers who died.",
      "metadata": {}
    },
    {
      "cell_type": "code",
      "source": "survived_data = train_data.loc[train_data['Survived']==1,:]\ndied_data = train_data.loc[train_data['Survived']==0, :]",
      "execution_count": null,
      "outputs": [],
      "metadata": {}
    },
    {
      "cell_type": "markdown",
      "source": "Then, let's plot the effect of sex vs. survival. In order to do that, we are first splitting the data on sex, i.e. between male and female, using Boolean masking:",
      "metadata": {}
    },
    {
      "cell_type": "code",
      "source": "# Split the survived and died data between male and female\nsurvived_male_data = survived_data.loc[survived_data['Sex']=='male',:]\ndied_male_data = died_data.loc[died_data['Sex']=='male',:]\nsurvived_female_data = survived_data.loc[survived_data['Sex']=='female',:]\ndied_female_data = died_data.loc[died_data['Sex']=='female',:]\n\n# Total number of (fe)males that survived and that died\nsurvived_male_n = survived_male_data.shape[0]\ndied_male_n = died_male_data.shape[0]\nsurvived_female_n = survived_female_data.shape[0]\ndied_female_n = died_female_data.shape[0]\n\nimport matplotlib.pyplot as pp\n\n# Bar plot drawing\nfig, axes = pp.subplots(nrows=1, ncols=2)\n\n# Sex vs. survival in total numbers\npp.axes(axes[0])\nsurvived = pp.bar([0.5, 3.5], [survived_male_n, survived_female_n], width=1, \n       color='#3BB200')\ndied = pp.bar([1.5, 4.5], [died_male_n, died_female_n], width=1, \n       color='red')\npp.xticks([1,4], ('Male', 'Female'))\npp.ylabel('Number of passengers')\npp.legend((survived, died), ('Survived', 'Died'), loc=0, fontsize = 'medium')\n\n# Sex vs. survival in fractions\npp.axes(axes[1])\nsurvived_pct = pp.bar([0.5, 3.5], [survived_male_n/(survived_male_n+died_male_n), \n                               survived_female_n/(survived_female_n+died_female_n)], \n                      width=1, color='#3BB200')\ndied_pct = pp.bar([1.5, 4.5], [died_male_n/(survived_male_n+died_male_n), \n                           died_female_n/(survived_female_n+died_female_n)], \n                  width=1, color='red')\npp.xticks([1,4], ('Male', 'Female'))\npp.ylabel('Fraction')\npp.legend((survived, died), ('Survived', 'Died'), fontsize = 'medium')\nfig.suptitle('Sex vs. survival', fontsize = 'x-large', y=1.03)\npp.tight_layout()\npp.show()",
      "execution_count": null,
      "outputs": [],
      "metadata": {}
    },
    {
      "cell_type": "markdown",
      "source": "We can see that in absolute numbers there are far more male passengers than female passengers in the training data, and the survival odds of males are much lower than those of females. \n\nNow, let's take a look at the effects of age on survival. The 'Age' column of our DataFrame contains NaN values, which will have to be filtered out in order to create the histogram. This means that the following plots will be based on only the 714 non-NaN values in the 'Age' column. Because we will have to remove passengers with NaN values more often, we will define a function checkNans that will help us do this: ",
      "metadata": {}
    },
    {
      "cell_type": "code",
      "source": "def checkNans(arr, arr2=None):\n    mask_nan = pd.isnull(arr) # using pandas isnull to also operate\n                              # on string fields\n    if mask_nan.sum()>0:\n        any_nan = True\n    else:\n        any_nan = False\n    n_nan = mask_nan.sum()\n    \n    masked_arr = arr[~mask_nan]\n    if arr2 is not None:\n        masked_arr2 = arr2[~mask_nan]\n    else: \n        masked_arr2 = None\n\n    return any_nan, masked_arr, masked_arr2, n_nan, mask_nan",
      "execution_count": null,
      "outputs": [],
      "metadata": {}
    },
    {
      "cell_type": "code",
      "source": "# Extract age data of the survived and died passengers,\n# check for nans\nsurvived_age = checkNans(survived_data['Age'])[1]\ndied_age = checkNans(died_data['Age'])[1]\n\n# Histogram\n# Determine bin edges of the combined data so that you can use these in \n# the final histogram, in order to make sure that the histogram bin \n# widths are equal for both groups\nstacked = np.hstack((survived_age, died_age))\nbins = np.histogram(stacked, bins=16, range=(0,stacked.max()))[1] \n\n# Creating the histograms\nsurvived = pp.hist(survived_age, bins, normed=1, facecolor='green', \n                   alpha=0.5)\ndied = pp.hist(died_age, bins, normed=1, facecolor='red', alpha=0.5)\n\n# Create custom handles for adding a legend to the histogram\nimport matplotlib.patches as mpatches\nsurvived_handle = mpatches.Patch(facecolor='green', alpha=0.5, \n                                label='Survived', edgecolor='black')\ndied_handle = mpatches.Patch(facecolor='red', alpha=0.5, label='Died', \n                                edgecolor='black')\npp.legend((survived_handle, died_handle), ('Survived', 'Died'), loc=0, \n                                fontsize = 'medium')\n\n# Other plot settings\npp.title('Age vs. survival', fontsize = 'x-large', y=1.02)\npp.xlabel('Age [years]')\npp.ylabel('Fraction')\npp.xlim([0,stacked.max()])\npp.tight_layout()\npp.show()",
      "execution_count": null,
      "outputs": [],
      "metadata": {}
    },
    {
      "cell_type": "markdown",
      "source": "So what we can see here is that the age distributions of those who survived and those who died are quite similar. Passengers older than ~65 seem to have worse odds of surviving, and children aged below ~16 seem to have better odds of surviving, but overall the effects are not too great. It would be interesting to replicate this for males and females separately, which is what we'll do next.",
      "metadata": {}
    },
    {
      "cell_type": "code",
      "source": "# Extract age data of the survived and died passengers for males \n# and females separately, check for nans\nsurvived_male_age = checkNans(survived_male_data['Age'])[1]\ndied_male_age = checkNans(died_male_data['Age'])[1]\nsurvived_female_age = checkNans(survived_female_data['Age'])[1]\ndied_female_age = checkNans(died_female_data['Age'])[1]\n\n# Histogram\n# Create subplots with shared y-axis\nfig, axes = pp.subplots(nrows=1, ncols=2, figsize=(8,4), sharey=True)\n\n# Creating the histograms\n# For the bin edges, we can use the same as bin edges as in the \n# previous plot\n# Male histogram\npp.axes(axes[0])\nsurvived_male = pp.hist(survived_male_age, bins, normed=1, \n                        facecolor='green', alpha=0.5)\ndied_male = pp.hist(died_male_age, bins, normed=1, facecolor='red', \n                        alpha=0.5)\npp.legend((survived_handle, died_handle), ('Survived', 'Died'),\n          loc=0, fontsize = 'medium') # Using the same legend handles \n                                      # as before\npp.title('Male')\npp.xlabel('Age [years]')\npp.ylabel('Fraction')\npp.xlim([0,stacked.max()]) # Using the same range as in the previous plot\npp.tight_layout()\n\n# Female histogram\npp.axes(axes[1])\nsurvived_female = pp.hist(survived_female_age, bins, normed=1, \n                          facecolor='green', alpha=0.5)\ndied_female = pp.hist(died_female_age, bins, normed=1, facecolor='red', \n                      alpha=0.5)\npp.legend((survived_handle, died_handle), ('Survived', 'Died'), loc=0, \n          fontsize = 'medium') # Using the same legend handles as before\npp.title('Female')\npp.xlabel('Age [years]')\npp.xlim([0,stacked.max()]) # Using the same range as in the previous plot\npp.tight_layout()\nfig.suptitle('Age vs. survival', fontsize = 'x-large', y=1.02)\npp.show()",
      "execution_count": null,
      "outputs": [],
      "metadata": {}
    },
    {
      "cell_type": "markdown",
      "source": "The added differentation between male and female does not provide any real insights except that for really young (<10 years) male childs the odds of surviving are much higher than for girls of the same age. This could be a statistical glitch if the number of boys aged <10 is much different from the number of girls aged <10, or if both groups are very small in size. However, both groups have 19 members.",
      "metadata": {}
    },
    {
      "cell_type": "code",
      "source": "print('Number of males aged <10: {}'.format\\\n      (survived_male_age[survived_male_age<10].count()))\nprint('Number of females aged <10: {}'.format\\\n      (survived_female_age[survived_female_age<10].count()))",
      "execution_count": null,
      "outputs": [],
      "metadata": {}
    },
    {
      "cell_type": "markdown",
      "source": "Ticket class and ticket fare most likely will somewhat move together. Let's make some boxplots to verify this.",
      "metadata": {}
    },
    {
      "cell_type": "code",
      "source": "# Extract the ticket fares for the various ticket classes\nfare_1 = train_data['Fare'].loc[train_data['Pclass']==1]\nfare_2 = train_data['Fare'].loc[train_data['Pclass']==2]\nfare_3 = train_data['Fare'].loc[train_data['Pclass']==3]\n\n# Boxplots\npp.boxplot([fare_1, fare_2, fare_3])\npp.ylim((0,train_data['Fare'].quantile(0.98))) \n# Only the lowest 98% of fares are shown because \n# otherwise the boxes would be hard to compare visually\n\n# Plot settings\npp.ylabel('Fare')\npp.xlabel('Ticket class')\npp.title('Ticket class vs. fare', fontsize = 'x-large', y=1.02)\npp.tight_layout()\npp.show()\n\n# Histogram\n# Determine bin edges of the combined data so that you can use \n# these in the final histogram, in order to make sure that the \n# histogram bin widths are equal for all three classes\nbins = np.histogram(train_data['Fare'].loc[train_data['Fare']\n        <(train_data['Fare'].quantile(0.98))], bins=20, \n        range=(0,train_data['Fare'].loc[train_data['Fare']<\n        (train_data['Fare'].quantile(0.98))].max()))[1] \n\n# Creating the histograms\nclass_1 = pp.hist(fare_1, bins, normed=1, facecolor='blue', alpha=0.5)\nclass_2 = pp.hist(fare_2, bins, normed=1, facecolor='red', alpha=0.5)\nclass_3 = pp.hist(fare_3, bins, normed=1, facecolor='green', alpha=0.5)\n\n# Create custom handles for adding a legend to the histogram\nclass_1_handle = mpatches.Patch(facecolor='blue', alpha=0.5, \n                                label='Class 1', edgecolor='black')\nclass_2_handle = mpatches.Patch(facecolor='red', alpha=0.5, \n                                label='Class 2', edgecolor='black')\nclass_3_handle = mpatches.Patch(facecolor='green', alpha=0.5, \n                                label='Class 3', edgecolor='black')\n\npp.legend((class_1_handle, class_2_handle, class_3_handle), \n          ('1st Class', '2nd Class', '3rd Class'), \n          loc=0, fontsize = 'medium')\n\n# Plot settings\npp.title('Ticket class vs. fare', fontsize = 'x-large', y=1.02)\npp.xlabel('Fare')\npp.ylabel('Fraction')\npp.xlim((0,train_data['Fare'].quantile(0.98)))\npp.tight_layout()\npp.show()",
      "execution_count": null,
      "outputs": [],
      "metadata": {}
    },
    {
      "cell_type": "markdown",
      "source": "So the classes somewhat overlap, although the histogram does not visualize this very clearly. Let's look at the effect of ticket class on survival.",
      "metadata": {}
    },
    {
      "cell_type": "code",
      "source": "# Extract the survival data for the various ticket classes\nsurvived_class_1 = survived_data['Survived'].loc[survived_data['Pclass']==1]\ndied_class_1 = died_data['Survived'].loc[died_data['Pclass']==1]\nsurvived_class_2 = survived_data['Survived'].loc[survived_data['Pclass']==2]\ndied_class_2 = died_data['Survived'].loc[died_data['Pclass']==2]\nsurvived_class_3 = survived_data['Survived'].loc[survived_data['Pclass']==3]\ndied_class_3 = died_data['Survived'].loc[died_data['Pclass']==3]\n\n# Total number of passengers from each class that survived and that died\nsurvived_class_1_n = survived_class_1.shape[0]\ndied_class_1_n = died_class_1.shape[0]\nsurvived_class_2_n = survived_class_2.shape[0]\ndied_class_2_n = died_class_2.shape[0]\nsurvived_class_3_n = survived_class_3.shape[0]\ndied_class_3_n = died_class_3.shape[0]\n\n# Bar plot drawing\nfig, axes = pp.subplots(nrows=1, ncols=2)\n\n# Ticket class vs. survival in total numbers\npp.axes(axes[0])\nsurvived = pp.bar([0.5, 3.5, 6.5], [survived_class_1_n, survived_class_2_n,\n                                    survived_class_3_n], width=1, \n                                    color='#3BB200')\ndied = pp.bar([1.5, 4.5, 7.5], [died_class_1_n, died_class_2_n, \n                                died_class_3_n], width=1, color='red')\npp.xticks([1.5,4.5,7.5], ('1st Class', '2nd Class', '3rd Class'))\n\npp.ylabel('Number of passengers')\npp.legend((survived, died), ('Survived', 'Died'), loc=0, \n          fontsize = 'medium')\n\n# Sex vs. survival in fractions\npp.axes(axes[1])\nsurvived_pct = pp.bar([0.5, 3.5, 6.5], [survived_class_1_n/(survived_class_1_n + \n                                                            died_class_1_n), \n                                        survived_class_2_n/(survived_class_2_n + \n                                                            died_class_2_n),\n                                         survived_class_3_n/(survived_class_3_n + \n                                                            died_class_3_n)], \n                      width=1, color='#3BB200')\ndied_pct = pp.bar([1.5, 4.5, 7.5], [died_class_1_n/(survived_class_1_n + \n                                                            died_class_1_n), \n                                        died_class_2_n/(survived_class_2_n + \n                                                            died_class_2_n),\n                                         died_class_3_n/(survived_class_3_n + \n                                                            died_class_3_n)],  \n                  width=1, color='red')\npp.xticks([1.5,4.5,7.5], ('1st Class', '2nd Class', '3rd Class'))\n#pp.xlim([0,8])\npp.ylabel('Fraction')\nleg = pp.legend((survived, died), ('Survived', 'Died'), \n                fontsize = 'medium', loc='upper left')\nfig.suptitle('Ticket class vs. survival', fontsize = 'x-large', y=1.03)\npp.tight_layout()\npp.show()",
      "execution_count": null,
      "outputs": [],
      "metadata": {}
    },
    {
      "cell_type": "markdown",
      "source": "We observe that passengers with a total of 3 or more siblings+spouse aboard the Titanic are far more likely to die than to survive (3rd plot). However, in absolute numbers (1st plot), this group is small. There were no passengers in our training set with 6 or 7 siblings+spouse aboard the Titanic, which explains the absence of bars for these categories, and which could produce some RuntimeWarnings. \n\nOn to the effect of number of parents+children on survival. Here we observe that those passengers without any parents or children on board, and those with 4 or more parents or children on board, are more likely to die in the incident than to survive (4th plot). There were only a few passengers with 3 or more parents or children on board (2nd plot).",
      "metadata": {}
    },
    {
      "cell_type": "markdown",
      "source": "So it seems that 1st class passengers had better odds of survival, and 3rd class passengers had far worse odds. 2nd Class passengers were about equally likely to either survive or die. \n\nThe next thing that we'll look at is the number of siblings+spouse vs. survival and the number of parents+children vs. survival. The feature is discrete and numerical; we will therefore bin the data in bins of width 1 and create a histogram like above. The 'SibSp' and 'Parch' columns of our data do not contain any NaN values so we do not need to preprocess them. ",
      "metadata": {}
    },
    {
      "cell_type": "code",
      "source": "fig, axes = pp.subplots(nrows=1, ncols=2, figsize=(8,4), sharey=True)\n\n# SIBSP\npp.axes(axes[0])\n# Extract SibSp data of the survived and died passengers\nsurvived_sibsp = survived_data['SibSp']\ndied_sibsp = died_data['SibSp']\n\n# Histogram\n# Determine bin edges of the combined data so that you can use \n# these in the final histogram, in order to make sure that the \n# histogram bin widths are equal for both groups\nstacked = np.hstack((survived_sibsp, died_sibsp))\nbins = np.histogram(stacked, bins=stacked.max()+1, range=\n                    (0,stacked.max()+1))[1] \n# The number of bins = stacked.max() so that each bin is of width 1\n\n# Creating the histograms\nsurvived = pp.hist(survived_sibsp, bins, normed=1, facecolor='green', \n                   alpha=0.5)\ndied = pp.hist(died_sibsp, bins, normed=1, facecolor='red', alpha=0.5)\n\n# Plot settings\npp.legend((survived_handle, died_handle), ('Survived', 'Died'), loc=0, \n          fontsize = 'medium') # Using the same legend handles as before\npp.title('No. siblings+spouses vs. survival', fontsize = 'x-large', y=1.02)\npp.xlabel('No. siblings+spouses')\npp.ylabel('Fraction')\npp.xticks(np.arange(train_data['SibSp'].max()+1)+0.5, \n          np.arange(train_data['SibSp'].max()+1))\npp.xlim([0,stacked.max()+1])\npp.tight_layout()\n\n# PARCH\npp.axes(axes[1])\n# Extract Parch data of the survived and died passengers\nsurvived_parch = survived_data['Parch']\ndied_parch = died_data['Parch']\n\n# Histogram\n# Determine bin edges of the combined data so that you can use \n# these in the final histogram, in order to make sure that the \n# histogram bin widths are equal for both groups\nstacked = np.hstack((survived_parch, died_parch))\nbins = np.histogram(stacked, bins=stacked.max(), \n                    range=(0,stacked.max()))[1] \n    # The number of bins = stacked.max() so that each bin is of width 1\n\n# Creating the histograms\nsurvived = pp.hist(survived_sibsp, bins, normed=1, facecolor='green', \n                   alpha=0.5)\ndied = pp.hist(died_sibsp, bins, normed=1, facecolor='red', alpha=0.5)\n\n# Plot settings\npp.legend((survived_handle, died_handle), ('Survived', 'Died'), loc=0, \n          fontsize = 'medium') # Using the same legend handles as before\npp.title('No. parents+children vs. survival', fontsize = 'x-large', y=1.02)\npp.xlabel('No. parents+children')\npp.xticks(np.arange(train_data['Parch'].max()+1)+0.5, \n          np.arange(train_data['Parch'].max()+1))\npp.ylabel('Fraction')\npp.xlim([0,stacked.max()+1])\npp.tight_layout()\n\nprint('Fraction of total survived / died passengers \\n\\\naccounted for by a certain bin')\npp.show()\n\n# SIBSP\n## The same as above, but now with the fractions within each category:\n# Extract the survival data for the various SibSp classes\nsibsp_classes = np.arange(train_data['SibSp'].max() + 1)\nsibsp_data = {'survived_n':np.array([]), 'survived_pct':np.array([]), \n              'died_n':np.array([]), 'died_pct':np.array([])}\nfor ii in sibsp_classes:\n    sibsp_data['survived_'+str(ii)] = survived_data['Survived'].loc[\n        survived_data['SibSp']==ii]\n    sibsp_data['survived_n'] = np.append(sibsp_data['survived_n'],\n        np.array((sibsp_data['survived_'+str(ii)].count())))\n    sibsp_data['died_'+str(ii)] = died_data['Survived'].loc[\n        died_data['SibSp']==ii]\n    sibsp_data['died_n'] = np.append(sibsp_data['died_n'],\n        np.array((sibsp_data['died_'+str(ii)].count())))\n\nsibsp_data['survived_pct'] = (sibsp_data['survived_n']/  \n                                              (sibsp_data['survived_n']+\n                                               sibsp_data['died_n']))\nsibsp_data['survived_pct'][np.isnan(sibsp_data['survived_pct'])]=0\nsibsp_data['died_pct'] = (sibsp_data['died_n']/  \n                                              (sibsp_data['survived_n']+\n                                               sibsp_data['died_n']))\nsibsp_data['died_pct'][np.isnan(sibsp_data['died_pct'])]=0\n\n# No. of siblings+spouses vs. survival in fractions\n\nsurvived_pct = pp.bar(np.arange(train_data['SibSp'].max()+1)*3+0.5, \n                      sibsp_data['survived_pct'], width=1, color='#3BB200')\ndied_pct = pp.bar(np.arange(train_data['SibSp'].max()+1)*3+1.5, \n                      sibsp_data['died_pct'], width=1, color='red')\npp.xticks(np.arange(train_data['SibSp'].max()+1)*3+1.5, \n          np.arange(train_data['SibSp'].max()+1))\npp.xlim([0,(train_data['SibSp'].max()+1)*3])\npp.xlabel('No. of siblings+spouse')\npp.ylabel('Fraction')\nleg = pp.legend((survived_pct, died_pct), ('Survived', 'Died'), \n                fontsize = 'medium', loc='upper left')\npp.title('No. of siblings+spouse vs. survival', fontsize = \n         'x-large', y=1.03)\npp.tight_layout()\nprint('Fraction of survived / died passengers within a certain bin')\npp.show()\n\n# PARCH\n# Extract ParCh data of the survived and died passengers\nsurvived_parch = survived_data['Parch']\ndied_parch = died_data['Parch']\n\n# Extract the survival data for the various ParCh classes\nparch_classes = np.arange(train_data['Parch'].max() + 1)\nparch_data = {'survived_n':np.array([]), 'survived_pct':np.array([]), \n              'died_n':np.array([]), 'died_pct':np.array([])}\nfor ii in parch_classes:\n    parch_data['survived_'+str(ii)] = survived_data['Survived'].loc[\n        survived_data['Parch']==ii]\n    parch_data['survived_n'] = np.append(parch_data['survived_n'],\n        np.array((parch_data['survived_'+str(ii)].count())))\n    parch_data['died_'+str(ii)] = died_data['Survived'].loc[\n        died_data['Parch']==ii]\n    parch_data['died_n'] = np.append(parch_data['died_n'],\n        np.array((parch_data['died_'+str(ii)].count())))\n\nparch_data['survived_pct'] = (parch_data['survived_n']/  \n                                              (parch_data['survived_n']+\n                                               parch_data['died_n']))\nparch_data['survived_pct'][np.isnan(parch_data['survived_pct'])]=0\nparch_data['died_pct'] = (parch_data['died_n']/  \n                                              (parch_data['survived_n']+\n                                               parch_data['died_n']))\nparch_data['died_pct'][np.isnan(parch_data['died_pct'])]=0\n\n# No. of parents+children vs. survival in fractions\nsurvived_pct = pp.bar(np.arange(train_data['Parch'].max()+1)*3+0.5, \n                      parch_data['survived_pct'], width=1, color='#3BB200')\ndied_pct = pp.bar(np.arange(train_data['Parch'].max()+1)*3+1.5, \n                      parch_data['died_pct'], width=1, color='red')\npp.xticks(np.arange(train_data['Parch'].max()+1)*3+1.5, \n          np.arange(train_data['Parch'].max()+1))\npp.xlim([0,(train_data['Parch'].max()+1)*3])\npp.xlabel('No. of parents+children')\npp.ylabel('Fraction')\nleg = pp.legend((survived_pct, died_pct), ('Survived', 'Died'), \n                fontsize = 'medium', loc='upper left')\npp.title('No. of parents+children vs. survival', fontsize = 'x-large', \n         y = 1.03)\npp.tight_layout()\nprint('Fraction of survived / died passengers within a certain bin')\npp.show()",
      "execution_count": null,
      "outputs": [],
      "metadata": {}
    },
    {
      "cell_type": "markdown",
      "source": "We have already seen that the ticket fares for the three ticket classes do overlap, and that the ticket class has predictive power on survival odds. When we group the ticket fares into bins, we can show the survival odds for each bin. Below I have grouped the data in bins of width=10; above a ticket fare of 250 only a few data points exist, and these have been grouped together. ",
      "metadata": {}
    },
    {
      "cell_type": "code",
      "source": "bins = np.append(np.arange(0,251,10), train_data['Fare'].max())\ntrain_fare_binned = pd.cut(train_data['Fare'], bins, include_lowest=True)\ntrain_data[['Survived']].groupby(train_fare_binned).mean()\n\nprint('Number of passengers:\\n{}'.format(train_data[\n    'Fare'].groupby(train_fare_binned).count()))\nprint('\\n')\nprint('Average survival:\\n{}'.format(train_data[\n    'Survived'].groupby(train_fare_binned).mean()))",
      "execution_count": null,
      "outputs": [],
      "metadata": {}
    },
    {
      "cell_type": "markdown",
      "source": "We observe that passengers in the lowest fare category are very numerous and also have very bad survival odds. We further notice that the next two most-populous groups have better survival odds than for our training set as a whole (38.4%).",
      "metadata": {}
    },
    {
      "cell_type": "markdown",
      "source": "Lastly, the average survival rates for the various categories in the 'Embarked', 'Cabin_cat' and 'Title' features will be presented. ",
      "metadata": {}
    },
    {
      "cell_type": "code",
      "source": "print('Average survival:\\n{}'.format(train_data[['Embarked',\n    'Survived']].groupby('Embarked').mean()))\nprint('\\n')\nprint('{}'.format(train_data[['Cabin_cat',\n    'Survived']].groupby('Cabin_cat').mean()))\nprint('\\n')\nprint('{}'.format(train_data[['Title',\n    'Survived']].groupby('Title').mean()))",
      "execution_count": null,
      "outputs": [],
      "metadata": {}
    },
    {
      "cell_type": "markdown",
      "source": "There seems to be enough distribution within those features for them to be relevant to our classification problem, so they will be included.",
      "metadata": {}
    },
    {
      "cell_type": "markdown",
      "source": "We have seen some trends in the data. If we assume independence of the examined features, a man aged 20-25, travelling 3rd class, with a total of 5 siblings + spouse, and 4 parents + children, boarded in Southampton, would have far worse odds of surviving than a married woman aged 35-40, travelling 1st class, with 1 sibling or spouse, and 3 parents + children, boarded in Cherbourg. \n\nThis concludes the Exploratory Data Analysis that we will be doing. We will now focus on training machine learning models on the data. ",
      "metadata": {}
    },
    {
      "cell_type": "markdown",
      "source": "### Preprocessing for machine learning\nHere we will apply some preprocessing that is needed in particular for various machine learning algorithms to efficiently operate on the data. We will start by encoding our categorical features ('Sex', 'Embarked', 'Title' and 'Cabin_cat') in a numerical format. We will use sklearn.preprocessing.OneHotEncoder for this; however, OneHotEncoder only works with *numerical* categorical data. We will use sklearn.preprocessing.LabelEncoder to encode our string labels with numbers.\n\nThe features that we are going to encode might contain missing values/NaNs/Nones. These will have to be imputed. I am not imputing all features in this stage because for the imputation I want to find the *K* nearest neighbors of a sample that needs imputation (based on its other features), and finding these *K* neigbors will be more accurate once the categorical features are One-Hot labeled. First let's see which of our categories features NaN/None values.",
      "metadata": {}
    },
    {
      "cell_type": "code",
      "source": "train_data[['Sex','Embarked','Title','Cabin_cat']].info()",
      "execution_count": null,
      "outputs": [],
      "metadata": {}
    },
    {
      "cell_type": "markdown",
      "source": "So only the 'Embarked' feature contains null entries, 2 in total. Let's find those entries:",
      "metadata": {}
    },
    {
      "cell_type": "code",
      "source": "train_data.loc[pd.isnull(train_data['Embarked'])]",
      "execution_count": null,
      "outputs": [],
      "metadata": {}
    },
    {
      "cell_type": "markdown",
      "source": "The passengers with PassengerId 62 and 830 do not have a known port of embarkation. We will come back to the imputation of those values later; first, lets One-Hot label the other features, so that we can do a more accurate imputation later on. ",
      "metadata": {}
    },
    {
      "cell_type": "code",
      "source": "from sklearn.preprocessing import LabelEncoder\n\n# Converting to numerical features\n# Sex feature\nle_sex = LabelEncoder()\nsex_numerical = le_sex.fit_transform(train_data['Sex'])\nsex_numerical_classes = le_sex.classes_\n\n# Title feature\nle_title = LabelEncoder()\ntitle_numerical = le_title.fit_transform(train_data['Title'])\ntitle_numerical_classes = le_title.classes_\n\n# Cabin_cat feature\nle_cabin_cat = LabelEncoder()\ncabin_cat_numerical = le_cabin_cat.fit_transform(train_data['Cabin_cat'])\ncabin_cat_numerical_classes = le_cabin_cat.classes_\n\nprint('Classes of Sex feature:\\n{}\\n{}'.format(\n        np.arange(len(sex_numerical_classes)), sex_numerical_classes))\nprint('')\nprint('Classes of Title feature:\\n{}\\n{}'.format(\n        np.arange(len(title_numerical_classes)), title_numerical_classes))\nprint('')\nprint('Classes of Cabin_cat feature:\\n{}\\n{}'.format(\n        np.arange(len(cabin_cat_numerical_classes)), cabin_cat_numerical_classes))",
      "execution_count": null,
      "outputs": [],
      "metadata": {}
    },
    {
      "cell_type": "markdown",
      "source": "We will create One-Hot labeled features:",
      "metadata": {}
    },
    {
      "cell_type": "code",
      "source": "from sklearn.preprocessing import OneHotEncoder\n# Sex feature\nenc_sex = OneHotEncoder(sparse=False)\nsex_onehot = enc_sex.fit_transform(sex_numerical.reshape(-1,1))\n\n# Title feature\nenc_title = OneHotEncoder(sparse=False)\ntitle_onehot = enc_title.fit_transform(title_numerical.reshape(-1,1))\n\n# Cabin_cat feature\nenc_cabin_cat = OneHotEncoder(sparse=False)\ncabin_cat_onehot = enc_cabin_cat.fit_transform(cabin_cat_numerical.reshape(-1,1))",
      "execution_count": null,
      "outputs": [],
      "metadata": {}
    },
    {
      "cell_type": "markdown",
      "source": "Drop the original categorical features and add the one-hot labeled features. Map names to the new features based on the classes printed above, using a new function pdAssignWithOHLabel():",
      "metadata": {}
    },
    {
      "cell_type": "code",
      "source": "def pdAssignWithOHLabel(df, column, onehot_labeled, class_labels):\n    to_assign = {}\n    for c_idx, label in enumerate(class_labels):\n        to_assign[column+'_'+label] = onehot_labeled[:,c_idx]\n    df = df.assign(**to_assign)\n    return df",
      "execution_count": null,
      "outputs": [],
      "metadata": {}
    },
    {
      "cell_type": "code",
      "source": "# Sex feature\ntrain_data = pdAssignWithOHLabel(train_data, 'Sex', \n                                 sex_onehot, sex_numerical_classes)\ntrain_data = train_data.drop('Sex',axis=1)\n\n# Title feature\ntrain_data = pdAssignWithOHLabel(train_data, 'Title', \n                                 title_onehot, title_numerical_classes)\ntrain_data = train_data.drop('Title',axis=1)\n\n# Cabin_cat feature\ntrain_data = pdAssignWithOHLabel(train_data, 'Cabin_cat', \n                            cabin_cat_onehot, cabin_cat_numerical_classes)\ntrain_data = train_data.drop('Cabin_cat',axis=1)\n\ntrain_data.head(0)",
      "execution_count": null,
      "outputs": [],
      "metadata": {}
    },
    {
      "cell_type": "markdown",
      "source": "The 'Embarked' data has not been imputed or Hot-One labeled yet. We will perform imputation based on the 5 nearest neighbors of a passenger; accurate nearest neighbor finding requires our features to be scaled. sklearn.preprocessing.StandardScaler() will be used to scale the features; however, StandardScaler does not provide good results when the data contains outliers. We recall the ticket fare box plot from the Exploratory Data Analysis section; only the smallest 98% of the data was shown in that plot, because there were some far-outlying points. We plot the ticket fare data again:",
      "metadata": {}
    },
    {
      "cell_type": "code",
      "source": "pp.boxplot([train_data['Fare']]) \npp.show()",
      "execution_count": null,
      "outputs": [],
      "metadata": {}
    },
    {
      "cell_type": "markdown",
      "source": "Data points that lie outside a range of mean + 3\\* standard deviation or even farther away can certainly bring meaningul information to our models; however, in case of the 'Fare' feature, there are 3 data points that unproportionally influence the results of the StandardScaler because they lie so far apart from the other values. Let's set their values to the mean+5\\* standard deviation of the ticket fares:",
      "metadata": {}
    },
    {
      "cell_type": "code",
      "source": "mu = train_data['Fare'].mean()\nsd = train_data['Fare'].std()\n\nrow_mask = train_data['Fare']>mu+5*sd\ntrain_data.set_value(row_mask, 'Fare', mu+5*sd);",
      "execution_count": null,
      "outputs": [],
      "metadata": {}
    },
    {
      "cell_type": "markdown",
      "source": "Now we can perform standard scaling on all features except the 'Embarked' and 'Age' feature, because both need to be imputed. This scaling will be performed on a temporary copy of the training data because with the sole purpose of being able to more accurately find nearest neighbors for data imputation. Persistent scaling will be performed on the training data in the ML fitting section. Also, the 'Survived' feature does not need scaling since it will be our target label in the ML model training:",
      "metadata": {}
    },
    {
      "cell_type": "code",
      "source": "from sklearn.preprocessing import StandardScaler\nsc_tmp = StandardScaler()\ntmp_scaled = train_data.copy().drop(['Embarked','Age','Survived'], axis=1) # create a copy of the data\ntmp_scaled = pd.DataFrame(sc_tmp.fit_transform(tmp_scaled),columns=tmp_scaled.columns, index=tmp_scaled.index)\n\n# Add the non-scaled features to this temporary DataFrame\ntmp_scaled = tmp_scaled.assign(Survived=train_data['Survived'])\ntmp_scaled = tmp_scaled.assign(Embarked=train_data['Embarked'])\ntmp_scaled = tmp_scaled.assign(Age=train_data['Age'])",
      "execution_count": null,
      "outputs": [],
      "metadata": {}
    },
    {
      "cell_type": "markdown",
      "source": "We found before that passengers 62 and 830 did not have non-null values for the 'Embarked' feature. Here, let's find the 5 nearest neighbors of these passengers based on all features except 'Age', 'Embarked' and 'Survived', and assign a value for 'Embarked' based on the average value of their nearest neighbors on that feature:",
      "metadata": {}
    },
    {
      "cell_type": "code",
      "source": "from sklearn.neighbors import KDTree\ntmp = tmp_scaled.copy().drop(['Survived','Age','Embarked'], axis=1).values\nrow_idx = pd.isnull(train_data['Embarked'])\ntree = KDTree(tmp)\ndist, ind = tree.query(tmp[[62, 830]], k=6) \n# The k nearest neighbors include the passenger itself, \n# so we specify k=6 to get the 5 nearest neighbors\nfor i in ind:\n    print('5 closest neigbors to passenger {} and their values for Embarked:\\n{}\\n'\\\n          .format(i[0], train_data['Embarked'].loc[i[1:]]))",
      "execution_count": null,
      "outputs": [],
      "metadata": {}
    },
    {
      "cell_type": "markdown",
      "source": "Based on the above, both passengers will be assigned an 'S' in the 'Embarked' feature:",
      "metadata": {}
    },
    {
      "cell_type": "code",
      "source": "train_data.set_value([62, 830], 'Embarked', 'S');",
      "execution_count": null,
      "outputs": [],
      "metadata": {}
    },
    {
      "cell_type": "markdown",
      "source": "The 'Embarked' feature is now also ready to be One-Hot labeled:",
      "metadata": {}
    },
    {
      "cell_type": "code",
      "source": "# Encode the values with numerical labels\nle_embarked = LabelEncoder()\nembarked_numerical = le_embarked.fit_transform(train_data['Embarked'])\nembarked_numerical_classes = le_embarked.classes_\nprint('Classes of Embarked feature:\\n{}\\n{}'.format(\n        np.arange(len(embarked_numerical_classes)), \n        embarked_numerical_classes))\n\n# One-Hot encoding\nenc_embarked = OneHotEncoder(sparse=False)\nembarked_onehot = enc_embarked.fit_transform(embarked_numerical.reshape(-1,1))\n\n# Add new features\ntrain_data = pdAssignWithOHLabel(train_data, 'Embarked', embarked_onehot, \n                                 embarked_numerical_classes)\ntmp_scaled = pdAssignWithOHLabel(tmp_scaled, 'Embarked', embarked_onehot, \n                                 embarked_numerical_classes)\n# Drop old feature\ntrain_data = train_data.drop('Embarked',axis=1)\ntmp_scaled = tmp_scaled.drop('Embarked',axis=1)",
      "execution_count": null,
      "outputs": [],
      "metadata": {}
    },
    {
      "cell_type": "markdown",
      "source": "The new columns need to be standard-scaled:",
      "metadata": {}
    },
    {
      "cell_type": "code",
      "source": "sc_tmp = StandardScaler()\ntmp = tmp_scaled[['Embarked_C', 'Embarked_Q', 'Embarked_S']].copy()\ntmp = pd.DataFrame(sc_tmp.fit_transform(tmp),columns=tmp.columns, index=tmp.index)\n\n# Drop the unscaled features from train_data \ntmp_scaled = tmp_scaled.drop(['Embarked_C', 'Embarked_Q', 'Embarked_S'], \n                             axis=1)\n\n# Assign the scaled features to train_data\ntmp_scaled = tmp_scaled.assign(Embarked_C=tmp['Embarked_C'])\ntmp_scaled = tmp_scaled.assign(Embarked_Q=tmp['Embarked_Q'])\ntmp_scaled = tmp_scaled.assign(Embarked_S=tmp['Embarked_S'])",
      "execution_count": null,
      "outputs": [],
      "metadata": {}
    },
    {
      "cell_type": "markdown",
      "source": "We still need to work on feature 'Age' which has null entries and is not scaled yet. As above, we will impute this feature based on nearest neighbors' values. Because the 'Age' column contains quite some null values, we will use 7 nearest neighbors instead of 5. ",
      "metadata": {}
    },
    {
      "cell_type": "code",
      "source": "def knnImpute(ori_arr, tmp_imp_arr, feature, k=6): # improved one\n    from sklearn.neighbors import KDTree\n    row_idx = ori_arr[pd.isnull(ori_arr[feature])].index.tolist()\n    tree = KDTree(tmp_imp_arr) # tmp_arr is the array without \n                           # the null-containing feature\n    #row_idx = np.add(row_idx, -1)\n    for nan_v in row_idx:\n        # Uncomment print statements below to get some more insight\n        #print('Passenger: {}'.format(nan_v))\n        dist, ind = tree.query(tmp_imp_arr[nan_v,:].reshape(1,-1), k)\n        #print(tmp_arr[nan_v,:])\n        #print(ind[0])\n        nn_vals = ori_arr[feature].loc[ind[0][1:]]\n        imp_val = np.floor(np.nanmean(nn_vals))+0.5 \n        # Per the documentation on this Kaggle data set, estimated\n        # 'Age' values are of the form x.5\n        \n        #print('{} closest neigbors to passenger {} and their values for ' \\\n        #'Age:\\n{}\\n'.format(k-1, nan_v, ori_arr[feature].loc[ind[0]]))\n        #print('Imputed value would be {}\\n'.format(imp_val))\n        ori_arr.set_value(nan_v, feature, imp_val)\n    return ori_arr",
      "execution_count": null,
      "outputs": [],
      "metadata": {}
    },
    {
      "cell_type": "code",
      "source": "tmp_imp = tmp_scaled.copy().drop('Age', axis = 1).values\ntrain_data = knnImpute(train_data, tmp_imp, 'Age', 8)\nprint('New number of null values in \"Age\" column: {}'.format(\n    pd.isnull(train_data['Age']).sum()))",
      "execution_count": null,
      "outputs": [],
      "metadata": {}
    },
    {
      "cell_type": "markdown",
      "source": "Now that all the data has been imputed, let's visualize a PCA plot on the first two principal components of the data to see if the data is easily separated:",
      "metadata": {}
    },
    {
      "cell_type": "code",
      "source": "from sklearn.decomposition import PCA\n# First scale the data\nsc_training = StandardScaler()\ntmp = train_data.copy().drop(['Survived'], axis=1).values # create a copy of the data\nsc_training = sc_training.fit(tmp)\n\ntrain_no_surv = train_data.copy().drop('Survived', axis=1)\ntrain_no_surv = sc_training.transform(train_no_surv)\npca = PCA()\npca.fit(train_no_surv)\nt = pca.transform(train_no_surv)\n\ndied = t[np.array(train_data['Survived']==0), :]\nsurvived = t[np.array(train_data['Survived']==1), :]\ncomponents = [0, 1] # Which principal components to plot against\n\npp.scatter(died[:,components[0]].reshape(1,-1), died[:,components[1]].reshape(1,-1), \n           color='red', alpha=.5, label='Died')\npp.scatter(survived[:,components[0]].reshape(1,-1), survived[:,components[1]].reshape(1,-1), \n           color='Green', alpha=.5, label='Survived')\n\npp.legend(loc='best', shadow=False, scatterpoints=1)\npp.title('PCA of train_no_surv')\npp.xlabel('Principal component {}'.format(components[0]+1))\npp.ylabel('Principal component {}'.format(components[1]+1))\npp.show()",
      "execution_count": null,
      "outputs": [],
      "metadata": {}
    },
    {
      "cell_type": "markdown",
      "source": "We observe that in the PC1, PC2 space some clustering of the data seems to take place; however, the two groups ('Died' and 'Survived') do overlap in this space. ",
      "metadata": {}
    },
    {
      "cell_type": "markdown",
      "source": "Now that the all features that required it have been imputed and a StandardScaler has been trained for later usage, we are ready to begin fitting our machine learning models:",
      "metadata": {}
    },
    {
      "cell_type": "markdown",
      "source": "### Fitting machine learning models\nNow that our data has been extensively preprocessed we will (finally!) be training various machine learning models on our data. In the following steps, the training data will be split (using cross-validation) into training and test data sets. ML models and StandardScalers will be trained on the training subsets and subsequently be applied to the test subset.   of Scaling of the final (as of yet unknown) test data will have to be performed using the same StandardScaler that will be used to transform the training data. Since scaling in the previous steps took place inside cross-validations, we'll fit a StandardScaler on the entire training data here, so that it can be used in scaling test data:",
      "metadata": {}
    },
    {
      "cell_type": "code",
      "source": "# Extract training data (without Survived feature) and class labels\ncolumns = ['Age', 'Pclass', 'SibSp', 'Parch', 'Fare', 'Sex_female', 'Sex_male',\n       'Title_Army.', 'Title_Dr.', 'Title_Master.', 'Title_Miss.', 'Title_Mr.',\n       'Title_Mrs.', 'Title_Noble.', 'Title_Rev.', 'Cabin_cat_A',\n       'Cabin_cat_B', 'Cabin_cat_C', 'Cabin_cat_D', 'Cabin_cat_E',\n       'Cabin_cat_F', 'Cabin_cat_G', 'Cabin_cat_None', 'Cabin_cat_T',\n       'Embarked_C', 'Embarked_Q', 'Embarked_S']\n\ntrain_data_df = train_data # Keep the full train_data DataFrame for later usage\ntrain_labels = train_data['Survived'].values.ravel()\ntrain_data = train_data[columns].values\n\n# General import statements\nfrom sklearn.model_selection import StratifiedKFold\nfrom sklearn.model_selection import GridSearchCV\nfrom sklearn.metrics import accuracy_score\nfrom sklearn.pipeline import Pipeline\n\n# Overall classifier performance DataFrame\noverall_res = pd.DataFrame(columns=['Classifier', 'Best_clf_retrained', 'Best_test_score'])",
      "execution_count": null,
      "outputs": [],
      "metadata": {}
    },
    {
      "cell_type": "code",
      "source": "# Naive Bayes classifier\nfrom sklearn.naive_bayes import GaussianNB\nclf_name = 'GaussianNB'\n\nsc = StandardScaler()\nclf = GaussianNB()\npipeline = Pipeline([('sc', sc),('clf', clf)])\nfit_params = {}\n# Initiate GridSearchCV\ngs = GridSearchCV(pipeline, fit_params, cv=7, n_jobs=-1)\n# Fit GridSearchCV\ngs.fit(train_data, train_labels)\n\ncv = pd.DataFrame(gs.cv_results_) # To check all the classifier performances\n\noverall_res = overall_res.append({'Classifier': clf_name, 'Best_clf_retrained': \n                            gs.best_estimator_.fit(train_data, train_labels), \n                            'Best_test_score': gs.best_score_}, ignore_index=True);\nprint('Best score in CV fitting: {}'.format(gs.best_score_))",
      "execution_count": null,
      "outputs": [],
      "metadata": {}
    },
    {
      "cell_type": "code",
      "source": "# Decision tree classifier\nfrom sklearn.tree import DecisionTreeClassifier\nclf_name = 'DecisionTree'\n\nsc = StandardScaler()\nclf = DecisionTreeClassifier()\n# Make pipeline\npipeline = Pipeline([('sc', sc),('clf', clf)])\nfit_params = {'clf__criterion':['gini','entropy'],\n    'clf__min_samples_split':[2,3,4,5,6,7,8,9,10,12,14,16,18,20,22,24,26,28,30,32],\n    'clf__min_samples_leaf':[1,2,3,4,5,6,7,8,9,10,11,12,13,14,15]}\n# Initiate GridSearchCV\ngs = GridSearchCV(pipeline, fit_params, cv=7, n_jobs=-1)\n# Fit GridSearchCV\ngs.fit(train_data, train_labels)\n\ncv = pd.DataFrame(gs.cv_results_) # To check all the classifier performances\n\noverall_res = overall_res.append({'Classifier': clf_name, 'Best_clf_retrained': \n                            gs.best_estimator_.fit(train_data, train_labels), \n                            'Best_test_score': gs.best_score_}, ignore_index=True);\nprint('Best performing classifier parameters (score {}):\\n{}'.format(gs.best_score_,gs.best_params_))",
      "execution_count": null,
      "outputs": [],
      "metadata": {}
    },
    {
      "cell_type": "code",
      "source": "# SVM classifier\nfrom sklearn.svm import SVC\nclf_name = 'SVM'\n\nsc = StandardScaler()\nclf = SVC()\n# Make pipeline\npipeline = Pipeline([('sc', sc),('clf', clf)])\nfit_params = {'clf__kernel':['rbf','linear', 'poly'],'clf__degree':[2, 3, 4, 5]}\n# Initiate GridSearchCV\ngs = GridSearchCV(pipeline, fit_params, cv=7, n_jobs=-1)\n# Fit GridSearchCV\ngs.fit(train_data, train_labels)\n\ncv = pd.DataFrame(gs.cv_results_) # To check all the classifier performances\n\noverall_res = overall_res.append({'Classifier': clf_name, 'Best_clf_retrained': \n                            gs.best_estimator_.fit(train_data, train_labels), \n                            'Best_test_score': gs.best_score_}, ignore_index=True);\nprint('Best performing classifier parameters (score {}):\\n{}'.format(gs.best_score_,gs.best_params_))",
      "execution_count": null,
      "outputs": [],
      "metadata": {}
    },
    {
      "cell_type": "code",
      "source": "# k-NN classifier\nfrom sklearn.neighbors import KNeighborsClassifier as KNC\nclf_name = 'KNN'\n\nsc = StandardScaler()\nclf = KNC()\n# Make pipeline\npipeline = Pipeline([('sc', sc),('clf', clf)])\nfit_params = {'clf__n_neighbors':[2,3,4,5,6,7,8,9,10,11,12,13,14,15,17,20,25,30,40],\n                 'clf__weights':['uniform','distance'],\n                 'clf__p':[1, 2]}\n# Initiate GridSearchCV\ngs = GridSearchCV(pipeline, fit_params, cv=7, n_jobs=-1)\n# Fit GridSearchCV\ngs.fit(train_data, train_labels)\n\ncv = pd.DataFrame(gs.cv_results_) # To check all the classifier performances\n\noverall_res = overall_res.append({'Classifier': clf_name, 'Best_clf_retrained': \n                            gs.best_estimator_.fit(train_data, train_labels), \n                            'Best_test_score': gs.best_score_}, ignore_index=True);\nprint('Best performing classifier parameters (score {}):\\n{}'.format(gs.best_score_,gs.best_params_))",
      "execution_count": null,
      "outputs": [],
      "metadata": {}
    },
    {
      "cell_type": "code",
      "source": "# Random Forest classifier\nfrom sklearn.ensemble import RandomForestClassifier as RFC\nclf_name = 'RandomForest'\n\nsc = StandardScaler()\nclf = RFC()\n# Make pipeline\npipeline = Pipeline([('sc', sc),('clf', clf)])\nfit_params = {'clf__n_estimators':[100],\n              'clf__min_samples_split':[2,3,4,5,6,7,8,9,10,11,12,13,16],\n              'clf__min_samples_leaf':[1,2,3,4,5,6,7],\n              'clf__max_features':[None,'auto']}\n# Initiate GridSearchCV\ngs = GridSearchCV(pipeline, fit_params, cv=7, n_jobs=-1)\n# Fit GridSearchCV\ngs.fit(train_data, train_labels)\n\ncv = pd.DataFrame(gs.cv_results_) # To check all the classifier performances\n\noverall_res = overall_res.append({'Classifier': clf_name, 'Best_clf_retrained': \n                            gs.best_estimator_.fit(train_data, train_labels), \n                            'Best_test_score': gs.best_score_}, ignore_index=True);\nprint('Best performing classifier parameters (score {}):\\n{}'.format(gs.best_score_,gs.best_params_))",
      "execution_count": null,
      "outputs": [],
      "metadata": {}
    },
    {
      "cell_type": "code",
      "source": "# AdaBoost classifier\nfrom sklearn.ensemble import AdaBoostClassifier as ABC\nclf_name = 'AdaBoost'\n\nsc = StandardScaler()\nclf = ABC()\n# Make pipeline\npipeline = Pipeline([('sc', sc),('clf', clf)])\nfit_params = {'clf__n_estimators':[200],\n              'clf__base_estimator':[\n                  DecisionTreeClassifier(criterion='gini',\n                      min_samples_leaf=1, min_samples_split=2),                  \n                  DecisionTreeClassifier(criterion='gini',\n                      min_samples_leaf=2, min_samples_split=4), \n                  DecisionTreeClassifier(criterion='gini',\n                      min_samples_leaf=2, min_samples_split=5), \n                  DecisionTreeClassifier(criterion='gini',   \n                      min_samples_leaf=2, min_samples_split=6), \n                  DecisionTreeClassifier(criterion='gini',                                          \n                      min_samples_leaf=2, min_samples_split=10),\n                  DecisionTreeClassifier(criterion='gini',\n                      min_samples_leaf=3, min_samples_split=6), \n                  DecisionTreeClassifier(criterion='gini',\n                      min_samples_leaf=3, min_samples_split=7), \n                  DecisionTreeClassifier(criterion='gini',   \n                      min_samples_leaf=3, min_samples_split=8),                         \n                  DecisionTreeClassifier(criterion='gini',\n                      min_samples_leaf=2, min_samples_split=13),\n                  DecisionTreeClassifier(criterion='gini',\n                      min_samples_leaf=4, min_samples_split=10),\n                  DecisionTreeClassifier(criterion='gini',\n                      min_samples_leaf=4, min_samples_split=13),\n                  DecisionTreeClassifier(criterion='gini',\n                      min_samples_leaf=6, min_samples_split=13),\n                  DecisionTreeClassifier(criterion='gini',\n                      min_samples_leaf=8, min_samples_split=18),\n                  DecisionTreeClassifier(criterion='gini',\n                      min_samples_leaf=10, min_samples_split=22),\n              ]}\n                                                                   \n# Initiate GridSearchCV\ngs = GridSearchCV(pipeline, fit_params, cv=7, n_jobs=-1)\n# Fit GridSearchCV\ngs.fit(train_data, train_labels)\n\ncv = pd.DataFrame(gs.cv_results_) # To check all the classifier performances\n\noverall_res = overall_res.append({'Classifier': clf_name, 'Best_clf_retrained': \n                            gs.best_estimator_.fit(train_data, train_labels), \n                            'Best_test_score': gs.best_score_}, ignore_index=True);\nprint('Best performing classifier parameters (score {}):\\n{}'.format(gs.best_score_,gs.best_params_))",
      "execution_count": null,
      "outputs": [],
      "metadata": {}
    },
    {
      "cell_type": "code",
      "source": "# Neural Network classifier\nfrom sklearn.neural_network import MLPClassifier as NNC\nclf_name = 'NeuralNet'\n\nsc = StandardScaler()\nclf = NNC()\n# Make pipeline\npipeline = Pipeline([('sc', sc),('clf', clf)])\nfit_params = {'clf__solver':['lbfgs'],\n              'clf__hidden_layer_sizes':[(2,),(3,),(4,),(7,),(10,),\n                                         (20,),(50,)],\n              'clf__max_iter':[200]\n                     }\n# Initiate GridSearchCV\ngs = GridSearchCV(pipeline, fit_params, cv=7, n_jobs=-1)\n# Fit GridSearchCV\ngs.fit(train_data, train_labels)\n\ncv = pd.DataFrame(gs.cv_results_) # To check all the classifier performances\n\noverall_res = overall_res.append({'Classifier': clf_name, 'Best_clf_retrained': \n                            gs.best_estimator_.fit(train_data, train_labels), \n                            'Best_test_score': gs.best_score_}, ignore_index=True);\nprint('Best performing classifier parameters (score {}):\\n{}'.format(gs.best_score_,gs.best_params_))",
      "execution_count": null,
      "outputs": [],
      "metadata": {}
    },
    {
      "cell_type": "code",
      "source": "overall_res",
      "execution_count": null,
      "outputs": [],
      "metadata": {}
    },
    {
      "cell_type": "markdown",
      "source": "We observe that, excluding GaussianNB, most classifiers are comparable in performance. We will classify all test set passengers using the best-performing operators above (SVM, KNN, RandomForest, NeuralNet). We ignore the DecisionTree classifier since it is likely to overfit, and decision trees are also implemented in RandomForest. We will put these classifiers in a list 'best_classifiers'. Their specific parameters have been stored in the results DataFrame and can be extracted to be used with new samples. Scaling of the test data will have to be performed using the same StandardScaler that was used to transform the training data, which we have called sc_training at the end of the previous section. ",
      "metadata": {}
    },
    {
      "cell_type": "code",
      "source": "best_classifiers = []\nfor clf in ['SVM','KNN','RandomForest','NeuralNet']:\n    best_classifiers.append(overall_res[overall_res['Classifier']==clf]['Best_clf_retrained'].values[0])",
      "execution_count": null,
      "outputs": [],
      "metadata": {}
    },
    {
      "cell_type": "markdown",
      "source": "### Predicting test samples\nWe will assume for a moment that test set data only needs imputation on the 'Age' feature. Many operations from above need to be applied to the test set as well; loading the data, creating a DataFrame, One-Hot encoding the data, scaling the data:",
      "metadata": {}
    },
    {
      "cell_type": "code",
      "source": "# Load test data\ntest_data = pd.read_csv('../input/test.csv')\n\n# Set DataFrame index\ntest_data.set_index(['PassengerId'], inplace=True)\n\n# Extract passenger titles\npatt = re.compile('\\s(\\S+\\.)') # 1 whitespace character followed by several \n# non-whitespace characters followed by a dot\ntitles_test = np.array([re.search(patt, i)[1] for i in test_data['Name'].values])\n# In the test data provided with the project (which will not be the test data on which\n# my models will be evaluated), the title of 'Dona.' was present, which was not encountered\n# in the training data. Passengers with the title of 'Dona.' will be merged with 'Noble.'. \n# New features that are encountered in the real test data but which are not accounted \n# for individually in this preprocessing stage will be assigned the most occuring value\n# for this feature (Mr.)\ntest_data = test_data.assign(Title=titles_test)\ntest_data = test_data.drop('Name', axis=1)\n# Regroup some Title values\ntest_data['Title'] = test_data['Title'].replace('Mlle.','Miss.')\ntest_data['Title'] = test_data['Title'].replace('Ms.','Miss.')  \ntest_data['Title'] = test_data['Title'].replace('Mme.','Mrs.')\ntest_data['Title'] = test_data['Title'].replace(['Capt.','Col.','Major.'],'Army.')\ntest_data['Title'] = test_data['Title'].replace(['Countess.','Don.', 'Dona.', 'Jonkheer.','Lady.','Sir.'],'Noble.')\n# Set unknown values for Title feature to Mr\nb_mask = test_data['Title'].isin(['Mr.','Sir.','Master.','Miss.','Mrs.','Lady.','Army.','Rev.', 'Noble.', 'Dr.'])\nb_mask = ~b_mask\nif b_mask.sum() > 0:\n    patt2 = re.compile('.*')\n    titles_test = test_data['Title'].copy()\n    titles_test = titles_test.loc[b_mask].replace(patt2,'Mr.')\n    test_data = test_data.drop('Title', axis=1)\n    test_data = test_data.assign(Title=titles_test)\n\n# Drop Ticket feature\ntest_data = test_data.drop('Ticket', axis=1)\n\n# Generate Cabin_cat feature\ncabin_cats = np.array([getCabinCat(cc) for cc in test_data['Cabin'].values])\ntest_data = test_data.assign(Cabin_cat=cabin_cats)\ntest_data = test_data.drop('Cabin', axis=1)\n    \n# Converting textual categorical features to numbers\nsex_numerical = le_sex.transform(test_data['Sex'])\ntitle_numerical = le_title.transform(test_data['Title'])\ncabin_cat_numerical = le_cabin_cat.transform(test_data['Cabin_cat'])\nembarked_numerical = le_embarked.transform(test_data['Embarked'])\n\n# One-Hot encoding\nsex_onehot = enc_sex.transform(sex_numerical.reshape(-1,1))\ntitle_onehot = enc_title.transform(title_numerical.reshape(-1,1))\ncabin_cat_onehot = enc_cabin_cat.transform(cabin_cat_numerical.reshape(-1,1))\nembarked_onehot = enc_embarked.transform(embarked_numerical.reshape(-1,1))\n\n# Add One-Hot labels to DataFrame\ntest_data = pdAssignWithOHLabel(test_data, 'Sex', \n                                 sex_onehot, sex_numerical_classes)\ntest_data = test_data.drop('Sex',axis=1)\ntest_data = pdAssignWithOHLabel(test_data, 'Title', \n                                 title_onehot, title_numerical_classes)\ntest_data = test_data.drop('Title',axis=1)\ntest_data = pdAssignWithOHLabel(test_data, 'Cabin_cat', \n                            cabin_cat_onehot, cabin_cat_numerical_classes)\ntest_data = test_data.drop('Cabin_cat',axis=1)\ntest_data = pdAssignWithOHLabel(test_data, 'Embarked', \n                            embarked_onehot, embarked_numerical_classes)\ntest_data = test_data.drop('Embarked',axis=1)\n\n# Impute missing data in all features\n# Add training and test data together, to more accurately find nearest neighbors\nall_data = train_data_df.drop('Survived',axis=1).append(test_data)\n\n# Define updated knnImpute function:\ndef knnImputeTest(test_arr, all_arr, tmp_imp_arr, feature, k=6): # improved one\n    from sklearn.neighbors import KDTree\n    row_idx = test_arr[pd.isnull(test_arr[feature])].index.tolist()\n    tree = KDTree(tmp_imp_arr.values) # tmp_imp_arr is the scaled array without \n                                      # the null-containing feature\n    #row_idx = np.add(row_idx, -1)\n    for nan_v in row_idx:\n        dist, ind = tree.query(tmp_imp_arr.loc[nan_v].values.reshape(1,-1), k)\n        nn_vals = all_arr[feature].loc[ind[0][1:]]\n        imp_val = np.floor(np.nanmean(nn_vals))+0.5 \n        # Per the documentation on this Kaggle data set, estimated\n        # 'Age' values are of the form x.5\n        test_arr = test_arr.set_value(nan_v, feature, imp_val)\n        all_arr = all_arr.set_value(nan_v, feature, imp_val)\n    return test_arr, all_arr\n\nfeats = []\nfor feat in all_data.columns:\n    feats.append(feat)\nneed_imp = np.empty([0,2])\nfor feat in feats:\n    if pd.isnull(all_data[feat]).sum() > 0:\n        need_imp = np.append(need_imp, np.array([[feat,pd.isnull(all_data[feat]).sum()]]), axis=0)\n\n# Sort features by number of imputations that need to be performed\nsort_idx = need_imp[:,1].argsort()\nneed_imp = need_imp[sort_idx]\n\nfor ii in range(len(need_imp)):\n    tmp = all_data = train_data_df.copy().drop('Survived',axis=1).append(test_data)\n    tmp = tmp.drop(list(need_imp[ii:,0]), axis=1)\n    sc = StandardScaler()\n    tmp_scaled =  pd.DataFrame(sc.fit_transform(tmp), columns=tmp.columns, index = tmp.index)\n    test_data, all_data = knnImputeTest(test_data, all_data, tmp_scaled, need_imp[ii,0], 11)\n\n# Check if imputation was done correctly:\nif pd.isnull(test_data).sum().sum() > 0:\n    raise ImputeError('{} NaNs in the data, so data was not imputed correctly'.format(\n        pd.isnull(test_data).sum().sum()))\n\n# Make sure column order is the same as in the training data, so that scaling can be performed\ncolumns = ['Age', 'Pclass', 'SibSp', 'Parch', 'Fare', 'Sex_female', 'Sex_male',\n       'Title_Army.', 'Title_Dr.', 'Title_Master.', 'Title_Miss.', 'Title_Mr.',\n       'Title_Mrs.', 'Title_Noble.', 'Title_Rev.', 'Cabin_cat_A',\n       'Cabin_cat_B', 'Cabin_cat_C', 'Cabin_cat_D', 'Cabin_cat_E',\n       'Cabin_cat_F', 'Cabin_cat_G', 'Cabin_cat_None', 'Cabin_cat_T',\n       'Embarked_C', 'Embarked_Q', 'Embarked_S']\ntest_data = test_data[columns]\n    \n# Scale the test data using the StandardScaler that was fit on the original training data,\n# 'sc_training'\ntmp = test_data.copy()\ntmp = pd.DataFrame(sc_training.transform(tmp),columns=test_data.columns, index=test_data.index)\ntest_data_scaled = tmp\n\n# Classify the test data with all classifiers in 'best_classifiers'\npreds_all = np.empty([test_data_scaled.values.shape[0],len(best_classifiers)])\nfor idx, clf in enumerate(best_classifiers):\n    preds_all[:,idx] = clf.predict(test_data_scaled)\npreds_all = preds_all.astype('int')\n\n# We have n predictions for each sample (where n is the number of classifiers); \n# from these n predictions we have to generate a final value. We will use\n# a simple majority voting for this\ndef majorityVoting(preds_all):\n    preds_final = np.empty([test_data_scaled.values.shape[0], 1])\n    for i in range(0,len(preds_all)):\n        bin_count = np.bincount(preds_all[i,:])\n        if np.bincount(bin_count)[-1]>1:\n            # There are more than one classes with the highest number of \n            # predicted values. In this case, select randomly between\n            # the two classes\n            preds = np.unique(preds_all[i,:])[bin_count==bin_count.max()]\n            pred = np.random.choice(preds)\n        else: \n            if len(np.unique(preds_all[i,:]))==1:\n                pred = np.unique(preds_all[i,:])[0]\n            else:\n                pred = np.unique(preds_all[i,:])[np.argmax(bin_count)]\n        preds_final[i,0] = pred\n    return preds_final\n\n# Write predictions to csv file\npreds_final = majorityVoting(preds_all).astype(int)\npreds_csv = pd.DataFrame(test_data.index.values, columns=['PassengerId'])\npreds_csv = preds_csv.assign(Survived=preds_final)\npreds_csv.to_csv('test_pred.csv', index=False)",
      "execution_count": null,
      "outputs": [],
      "metadata": {}
    },
    {
      "cell_type": "code",
      "source": "preds_csv",
      "execution_count": null,
      "outputs": [],
      "metadata": {}
    }
  ]
}